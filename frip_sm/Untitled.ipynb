{
 "cells": [
  {
   "cell_type": "code",
   "execution_count": 10,
   "id": "47f11610-f1a1-42d7-83d6-f18bc81d863d",
   "metadata": {},
   "outputs": [],
   "source": [
    "### Visualize Hi-C data with HiGlass\n",
    "import higlass as hg\n",
    "hg.server.enable_proxy()\n",
    "\n",
    "ts1 = hg.bigwig('/home1/yxiao977/sc1/frip_sm_data/ChIP_fastqs_maps/SRR12545444/SRR12545444.rescale.bw')\n",
    "ts2 = hg.bigwig('/home1/yxiao977/sc1/frip_sm_data/ChIP_fastqs_maps/SRR12545446/SRR12545446.rescale.bw')\n",
    "ts3 = hg.bigwig('/home1/yxiao977/sc1/frip_sm_data/averaged_rad21.bw')\n",
    "ts4 = hg.bigwig('/home1/yxiao977/sc1/frip_sm_data/ChIP_fastqs_maps/SRR12545477/SRR12545477.rescale.bw')\n",
    "ts5 = hg.bigwig('/home1/yxiao977/sc1/frip_sm_data/ChIP_fastqs_maps/CTCF_untreated/SRR5517476/SRR5517476.rescale.bw')"
   ]
  },
  {
   "cell_type": "code",
   "execution_count": 11,
   "id": "53d8524f-2087-4d92-904b-8a9291438ac6",
   "metadata": {},
   "outputs": [],
   "source": [
    "view1 = hg.view(ts1.track(\"horizontal-bar\"), ts1.track(\"chromosome-labels\"))\n",
    "view2 = hg.view(ts2.track(\"horizontal-bar\"), ts2.track(\"chromosome-labels\"))\n",
    "view3 = hg.view(ts3.track(\"horizontal-bar\"), ts3.track(\"chromosome-labels\"))\n",
    "view4 = hg.view(ts4.track(\"horizontal-bar\"), ts4.track(\"chromosome-labels\"))\n",
    "view5 = hg.view(ts5.track(\"horizontal-bar\"), ts5.track(\"chromosome-labels\"))"
   ]
  },
  {
   "cell_type": "code",
   "execution_count": 12,
   "id": "7cf75771-264c-4316-acd3-5b9f6be88c5f",
   "metadata": {},
   "outputs": [
    {
     "data": {
      "text/html": [
       "\n",
       "<!DOCTYPE html>\n",
       "<html>\n",
       "  <head>\n",
       "    <link rel=\"stylesheet\" href=\"https://esm.sh/higlass@1.12/dist/hglib.css\">\n",
       "    <script src=\"https://unpkg.com/requirejs-toggle\"></script>\n",
       "    \n",
       "    <script src=\"https://unpkg.com/requirejs-toggle\"></script>\n",
       "  </head>\n",
       "  <body>\n",
       "    <div id=\"jupyter-hg-5d1f1f2f095547b98ff80d57b0b4ba54\"></div>\n",
       "  </body>\n",
       "  <script type=\"module\">\n",
       "    import hglib from \"https://esm.sh/higlass@1.12?deps=react@17,react-dom@17,pixi.js@6\";\n",
       "    hglib.viewer(\n",
       "      document.getElementById('jupyter-hg-5d1f1f2f095547b98ff80d57b0b4ba54'),\n",
       "      {\"editable\": true, \"viewEditable\": true, \"tracksEditable\": true, \"views\": [{\"layout\": {\"x\": 0, \"y\": 0, \"w\": 12, \"h\": 6}, \"tracks\": {\"top\": [{\"tilesetUid\": \"4f65a7022bb553081610f9660354c437\", \"server\": \"/proxy/43260/tilesets/api/v1/\", \"type\": \"horizontal-bar\", \"uid\": \"71bc9068-5437-4cf6-a24e-3ef1dae3caaf\"}, {\"tilesetUid\": \"4f65a7022bb553081610f9660354c437\", \"server\": \"/proxy/43260/tilesets/api/v1/\", \"type\": \"chromosome-labels\", \"uid\": \"9aa2da8e-3dcd-460c-8971-c79e99504fe3\"}]}, \"uid\": \"f476f52e-afd6-447d-9d72-3c89bf966633\", \"zoomLimits\": [1.0, null]}, {\"layout\": {\"x\": 12, \"y\": 0, \"w\": 12, \"h\": 6}, \"tracks\": {\"top\": [{\"tilesetUid\": \"553b2c135f3fa8ce50b67a23ecf27450\", \"server\": \"/proxy/43260/tilesets/api/v1/\", \"type\": \"horizontal-bar\", \"uid\": \"97c574da-b0ca-430b-956e-b566af6b1787\"}, {\"tilesetUid\": \"553b2c135f3fa8ce50b67a23ecf27450\", \"server\": \"/proxy/43260/tilesets/api/v1/\", \"type\": \"chromosome-labels\", \"uid\": \"7873e85e-b199-46d9-90ef-dc9682bdf6f9\"}]}, \"uid\": \"8afdee22-5e2a-461a-b1d6-8e08b5e6e00f\", \"zoomLimits\": [1.0, null]}], \"zoomLocks\": {\"locksByViewUid\": {\"f476f52e-afd6-447d-9d72-3c89bf966633\": \"1ccea6d8-8a74-4b6f-bb22-5c9d0d6066b6\", \"8afdee22-5e2a-461a-b1d6-8e08b5e6e00f\": \"1ccea6d8-8a74-4b6f-bb22-5c9d0d6066b6\"}, \"locksDict\": {\"1ccea6d8-8a74-4b6f-bb22-5c9d0d6066b6\": {\"uid\": \"1ccea6d8-8a74-4b6f-bb22-5c9d0d6066b6\", \"f476f52e-afd6-447d-9d72-3c89bf966633\": [1.0, 1.0, 1.0], \"8afdee22-5e2a-461a-b1d6-8e08b5e6e00f\": [1.0, 1.0, 1.0]}}}, \"locationLocks\": {\"locksByViewUid\": {\"f476f52e-afd6-447d-9d72-3c89bf966633\": \"1ccea6d8-8a74-4b6f-bb22-5c9d0d6066b6\", \"8afdee22-5e2a-461a-b1d6-8e08b5e6e00f\": \"1ccea6d8-8a74-4b6f-bb22-5c9d0d6066b6\"}, \"locksDict\": {\"1ccea6d8-8a74-4b6f-bb22-5c9d0d6066b6\": {\"uid\": \"1ccea6d8-8a74-4b6f-bb22-5c9d0d6066b6\", \"f476f52e-afd6-447d-9d72-3c89bf966633\": [1.0, 1.0, 1.0], \"8afdee22-5e2a-461a-b1d6-8e08b5e6e00f\": [1.0, 1.0, 1.0]}}}, \"valueScaleLocks\": {\"locksByViewUid\": {}, \"locksDict\": {}}},\n",
       "    );\n",
       "    </script>\n",
       "</html>"
      ],
      "text/plain": [
       "Viewconf(editable=True, viewEditable=True, tracksEditable=True, zoomFixed=None, compactLayout=None, exportViewUrl=None, trackSourceServers=None, views=[View(layout=Layout(x=0, y=0, w=12, h=6, moved=None, static=None), tracks=Tracks[TrackT](left=None, right=None, top=[EnumTrack(tilesetUid='4f65a7022bb553081610f9660354c437', server='/proxy/43260/tilesets/api/v1/', type='horizontal-bar', uid='71bc9068-5437-4cf6-a24e-3ef1dae3caaf', width=None, height=None, options=None, data=None, chromInfoPath=None, fromViewUid=None, x=None, y=None), EnumTrack(tilesetUid='4f65a7022bb553081610f9660354c437', server='/proxy/43260/tilesets/api/v1/', type='chromosome-labels', uid='9aa2da8e-3dcd-460c-8971-c79e99504fe3', width=None, height=None, options=None, data=None, chromInfoPath=None, fromViewUid=None, x=None, y=None)], bottom=None, center=None, whole=None, gallery=None), uid='f476f52e-afd6-447d-9d72-3c89bf966633', autocompleteSource=None, chromInfoPath=None, genomePositionSearchBox=None, genomePositionSearchBoxVisible=None, initialXDomain=None, initialYDomain=None, overlays=None, selectionView=None, zoomFixed=None, zoomLimits=(1.0, None)), View(layout=Layout(x=12, y=0, w=12, h=6, moved=None, static=None), tracks=Tracks[TrackT](left=None, right=None, top=[EnumTrack(tilesetUid='553b2c135f3fa8ce50b67a23ecf27450', server='/proxy/43260/tilesets/api/v1/', type='horizontal-bar', uid='97c574da-b0ca-430b-956e-b566af6b1787', width=None, height=None, options=None, data=None, chromInfoPath=None, fromViewUid=None, x=None, y=None), EnumTrack(tilesetUid='553b2c135f3fa8ce50b67a23ecf27450', server='/proxy/43260/tilesets/api/v1/', type='chromosome-labels', uid='7873e85e-b199-46d9-90ef-dc9682bdf6f9', width=None, height=None, options=None, data=None, chromInfoPath=None, fromViewUid=None, x=None, y=None)], bottom=None, center=None, whole=None, gallery=None), uid='8afdee22-5e2a-461a-b1d6-8e08b5e6e00f', autocompleteSource=None, chromInfoPath=None, genomePositionSearchBox=None, genomePositionSearchBoxVisible=None, initialXDomain=None, initialYDomain=None, overlays=None, selectionView=None, zoomFixed=None, zoomLimits=(1.0, None))], zoomLocks=ZoomLocks(locksByViewUid={'f476f52e-afd6-447d-9d72-3c89bf966633': '1ccea6d8-8a74-4b6f-bb22-5c9d0d6066b6', '8afdee22-5e2a-461a-b1d6-8e08b5e6e00f': '1ccea6d8-8a74-4b6f-bb22-5c9d0d6066b6'}, locksDict={'1ccea6d8-8a74-4b6f-bb22-5c9d0d6066b6': Lock(uid='1ccea6d8-8a74-4b6f-bb22-5c9d0d6066b6', f476f52e-afd6-447d-9d72-3c89bf966633=(1.0, 1.0, 1.0), 8afdee22-5e2a-461a-b1d6-8e08b5e6e00f=(1.0, 1.0, 1.0))}), locationLocks=LocationLocks(locksByViewUid={'f476f52e-afd6-447d-9d72-3c89bf966633': '1ccea6d8-8a74-4b6f-bb22-5c9d0d6066b6', '8afdee22-5e2a-461a-b1d6-8e08b5e6e00f': '1ccea6d8-8a74-4b6f-bb22-5c9d0d6066b6'}, locksDict={'1ccea6d8-8a74-4b6f-bb22-5c9d0d6066b6': Lock(uid='1ccea6d8-8a74-4b6f-bb22-5c9d0d6066b6', f476f52e-afd6-447d-9d72-3c89bf966633=(1.0, 1.0, 1.0), 8afdee22-5e2a-461a-b1d6-8e08b5e6e00f=(1.0, 1.0, 1.0))}), valueScaleLocks=ValueScaleLocks(locksByViewUid={}, locksDict={}), chromInfoPath=None)"
      ]
     },
     "execution_count": 12,
     "metadata": {},
     "output_type": "execute_result"
    },
    {
     "name": "stderr",
     "output_type": "stream",
     "text": [
      "/home1/yxiao977/.conda/envs/akita/lib/python3.9/site-packages/clodius/tiles/utils.py:275: FutureWarning: Series.__getitem__ treating keys as positions is deprecated. In a future version, integer keys will always be treated as labels (consistent with DataFrame behavior). To access a value by position, use `ser.iloc[pos]`\n",
      "  yield cid, start, chromsizes[cid]\n",
      "/home1/yxiao977/.conda/envs/akita/lib/python3.9/site-packages/clodius/tiles/utils.py:275: FutureWarning: Series.__getitem__ treating keys as positions is deprecated. In a future version, integer keys will always be treated as labels (consistent with DataFrame behavior). To access a value by position, use `ser.iloc[pos]`\n",
      "  yield cid, start, chromsizes[cid]\n",
      "/home1/yxiao977/.conda/envs/akita/lib/python3.9/site-packages/clodius/tiles/utils.py:275: FutureWarning: Series.__getitem__ treating keys as positions is deprecated. In a future version, integer keys will always be treated as labels (consistent with DataFrame behavior). To access a value by position, use `ser.iloc[pos]`\n",
      "  yield cid, start, chromsizes[cid]\n",
      "/home1/yxiao977/.conda/envs/akita/lib/python3.9/site-packages/clodius/tiles/utils.py:275: FutureWarning: Series.__getitem__ treating keys as positions is deprecated. In a future version, integer keys will always be treated as labels (consistent with DataFrame behavior). To access a value by position, use `ser.iloc[pos]`\n",
      "  yield cid, start, chromsizes[cid]\n",
      "/home1/yxiao977/.conda/envs/akita/lib/python3.9/site-packages/clodius/tiles/utils.py:275: FutureWarning: Series.__getitem__ treating keys as positions is deprecated. In a future version, integer keys will always be treated as labels (consistent with DataFrame behavior). To access a value by position, use `ser.iloc[pos]`\n",
      "  yield cid, start, chromsizes[cid]\n",
      "/home1/yxiao977/.conda/envs/akita/lib/python3.9/site-packages/clodius/tiles/utils.py:275: FutureWarning: Series.__getitem__ treating keys as positions is deprecated. In a future version, integer keys will always be treated as labels (consistent with DataFrame behavior). To access a value by position, use `ser.iloc[pos]`\n",
      "  yield cid, start, chromsizes[cid]\n",
      "/home1/yxiao977/.conda/envs/akita/lib/python3.9/site-packages/clodius/tiles/utils.py:275: FutureWarning: Series.__getitem__ treating keys as positions is deprecated. In a future version, integer keys will always be treated as labels (consistent with DataFrame behavior). To access a value by position, use `ser.iloc[pos]`\n",
      "  yield cid, start, chromsizes[cid]\n",
      "/home1/yxiao977/.conda/envs/akita/lib/python3.9/site-packages/clodius/tiles/utils.py:275: FutureWarning: Series.__getitem__ treating keys as positions is deprecated. In a future version, integer keys will always be treated as labels (consistent with DataFrame behavior). To access a value by position, use `ser.iloc[pos]`\n",
      "  yield cid, start, chromsizes[cid]\n",
      "/home1/yxiao977/.conda/envs/akita/lib/python3.9/site-packages/clodius/tiles/utils.py:275: FutureWarning: Series.__getitem__ treating keys as positions is deprecated. In a future version, integer keys will always be treated as labels (consistent with DataFrame behavior). To access a value by position, use `ser.iloc[pos]`\n",
      "  yield cid, start, chromsizes[cid]\n",
      "/home1/yxiao977/.conda/envs/akita/lib/python3.9/site-packages/clodius/tiles/utils.py:275: FutureWarning: Series.__getitem__ treating keys as positions is deprecated. In a future version, integer keys will always be treated as labels (consistent with DataFrame behavior). To access a value by position, use `ser.iloc[pos]`\n",
      "  yield cid, start, chromsizes[cid]\n",
      "/home1/yxiao977/.conda/envs/akita/lib/python3.9/site-packages/clodius/tiles/utils.py:275: FutureWarning: Series.__getitem__ treating keys as positions is deprecated. In a future version, integer keys will always be treated as labels (consistent with DataFrame behavior). To access a value by position, use `ser.iloc[pos]`\n",
      "  yield cid, start, chromsizes[cid]\n",
      "/home1/yxiao977/.conda/envs/akita/lib/python3.9/site-packages/clodius/tiles/utils.py:275: FutureWarning: Series.__getitem__ treating keys as positions is deprecated. In a future version, integer keys will always be treated as labels (consistent with DataFrame behavior). To access a value by position, use `ser.iloc[pos]`\n",
      "  yield cid, start, chromsizes[cid]\n",
      "/home1/yxiao977/.conda/envs/akita/lib/python3.9/site-packages/clodius/tiles/utils.py:275: FutureWarning: Series.__getitem__ treating keys as positions is deprecated. In a future version, integer keys will always be treated as labels (consistent with DataFrame behavior). To access a value by position, use `ser.iloc[pos]`\n",
      "  yield cid, start, chromsizes[cid]\n",
      "/home1/yxiao977/.conda/envs/akita/lib/python3.9/site-packages/clodius/tiles/utils.py:275: FutureWarning: Series.__getitem__ treating keys as positions is deprecated. In a future version, integer keys will always be treated as labels (consistent with DataFrame behavior). To access a value by position, use `ser.iloc[pos]`\n",
      "  yield cid, start, chromsizes[cid]\n",
      "/home1/yxiao977/.conda/envs/akita/lib/python3.9/site-packages/clodius/tiles/utils.py:275: FutureWarning: Series.__getitem__ treating keys as positions is deprecated. In a future version, integer keys will always be treated as labels (consistent with DataFrame behavior). To access a value by position, use `ser.iloc[pos]`\n",
      "  yield cid, start, chromsizes[cid]\n",
      "/home1/yxiao977/.conda/envs/akita/lib/python3.9/site-packages/clodius/tiles/utils.py:275: FutureWarning: Series.__getitem__ treating keys as positions is deprecated. In a future version, integer keys will always be treated as labels (consistent with DataFrame behavior). To access a value by position, use `ser.iloc[pos]`\n",
      "  yield cid, start, chromsizes[cid]\n",
      "/home1/yxiao977/.conda/envs/akita/lib/python3.9/site-packages/clodius/tiles/utils.py:275: FutureWarning: Series.__getitem__ treating keys as positions is deprecated. In a future version, integer keys will always be treated as labels (consistent with DataFrame behavior). To access a value by position, use `ser.iloc[pos]`\n",
      "  yield cid, start, chromsizes[cid]\n",
      "/home1/yxiao977/.conda/envs/akita/lib/python3.9/site-packages/clodius/tiles/utils.py:275: FutureWarning: Series.__getitem__ treating keys as positions is deprecated. In a future version, integer keys will always be treated as labels (consistent with DataFrame behavior). To access a value by position, use `ser.iloc[pos]`\n",
      "  yield cid, start, chromsizes[cid]\n",
      "/home1/yxiao977/.conda/envs/akita/lib/python3.9/site-packages/clodius/tiles/utils.py:275: FutureWarning: Series.__getitem__ treating keys as positions is deprecated. In a future version, integer keys will always be treated as labels (consistent with DataFrame behavior). To access a value by position, use `ser.iloc[pos]`\n",
      "  yield cid, start, chromsizes[cid]\n",
      "/home1/yxiao977/.conda/envs/akita/lib/python3.9/site-packages/clodius/tiles/utils.py:275: FutureWarning: Series.__getitem__ treating keys as positions is deprecated. In a future version, integer keys will always be treated as labels (consistent with DataFrame behavior). To access a value by position, use `ser.iloc[pos]`\n",
      "  yield cid, start, chromsizes[cid]\n",
      "/home1/yxiao977/.conda/envs/akita/lib/python3.9/site-packages/clodius/tiles/utils.py:275: FutureWarning: Series.__getitem__ treating keys as positions is deprecated. In a future version, integer keys will always be treated as labels (consistent with DataFrame behavior). To access a value by position, use `ser.iloc[pos]`\n",
      "  yield cid, start, chromsizes[cid]\n",
      "/home1/yxiao977/.conda/envs/akita/lib/python3.9/site-packages/clodius/tiles/utils.py:275: FutureWarning: Series.__getitem__ treating keys as positions is deprecated. In a future version, integer keys will always be treated as labels (consistent with DataFrame behavior). To access a value by position, use `ser.iloc[pos]`\n",
      "  yield cid, start, chromsizes[cid]\n",
      "/home1/yxiao977/.conda/envs/akita/lib/python3.9/site-packages/clodius/tiles/utils.py:275: FutureWarning: Series.__getitem__ treating keys as positions is deprecated. In a future version, integer keys will always be treated as labels (consistent with DataFrame behavior). To access a value by position, use `ser.iloc[pos]`\n",
      "  yield cid, start, chromsizes[cid]\n",
      "/home1/yxiao977/.conda/envs/akita/lib/python3.9/site-packages/clodius/tiles/utils.py:275: FutureWarning: Series.__getitem__ treating keys as positions is deprecated. In a future version, integer keys will always be treated as labels (consistent with DataFrame behavior). To access a value by position, use `ser.iloc[pos]`\n",
      "  yield cid, start, chromsizes[cid]\n"
     ]
    }
   ],
   "source": [
    "view_lock = hg.lock(view3, view5)\n",
    "# Concatenate views horizontally and apply synchronization lock\n",
    "(view3 | view5).locks(view_lock)"
   ]
  },
  {
   "cell_type": "code",
   "execution_count": 5,
   "id": "6e7c5c52",
   "metadata": {},
   "outputs": [],
   "source": [
    "import pyBigWig\n",
    "import numpy as np\n",
    "\n",
    "def average_bigwig_files(bigwig_files, output_bigwig_path, chrom_sizes):\n",
    "    bws = [pyBigWig.open(bw) for bw in bigwig_files]\n",
    "    \n",
    "    bw_out = pyBigWig.open(output_bigwig_path, 'w')\n",
    "    bw_out.addHeader(chrom_sizes)\n",
    "    \n",
    "    for chrom, size in chrom_sizes:\n",
    "        # Determine intervals to average over; this could be the entire chromosome\n",
    "        # Or specific intervals if you're only interested in certain regions\n",
    "        intervals = [(start, min(start + 20, size)) for start in range(0, size, 20)]\n",
    "        print(intervals[:10])\n",
    "        for start, end in intervals:\n",
    "            # Read values from each BigWig file for the current interval\n",
    "            values = [bw.stats(chrom, start, end, type='mean')[0] for bw in bws]\n",
    "            \n",
    "            # Filter out None values, if any file does not cover the interval\n",
    "            values = [v for v in values if v is not None]\n",
    "            \n",
    "            if values:\n",
    "                # Calculate the average of the values\n",
    "                avg_value = np.mean(values)\n",
    "                # Write the average value to the output BigWig file\n",
    "                bw_out.addEntries([chrom], [start], ends=[end], values=[avg_value])\n",
    "    \n",
    "    # Close all BigWig files\n",
    "    for bw in bws:\n",
    "        bw.close()\n",
    "    bw_out.close()\n"
   ]
  },
  {
   "cell_type": "code",
   "execution_count": 2,
   "id": "f589d1b3-bb88-49d2-beee-525ee58b3620",
   "metadata": {},
   "outputs": [],
   "source": [
    "# Output BigWig file path\n",
    "output_bigwig_path = 'averaged_rad21.bigwig'\n",
    "\n",
    "bw_files = [\n",
    "    '/home1/yxiao977/sc1/frip_sm_data/ChIP_fastqs_maps/SRR12545444/SRR12545444.rescale.bw',\n",
    "    '/home1/yxiao977/sc1/frip_sm_data/ChIP_fastqs_maps/SRR12545458/SRR12545458.rescale.bw',\n",
    "    '/home1/yxiao977/sc1/frip_sm_data/ChIP_fastqs_maps/SRR12545462/SRR12545462.rescale.bw',\n",
    "    '/home1/yxiao977/sc1/frip_sm_data/ChIP_fastqs_maps/SRR12545464/SRR12545464.rescale.bw',\n",
    "]"
   ]
  },
  {
   "cell_type": "code",
   "execution_count": 3,
   "id": "419a4de1",
   "metadata": {},
   "outputs": [],
   "source": [
    "with pyBigWig.open(bw_files[0]) as bw:\n",
    "    chrom_sizes = [(chrom, bw.chroms()[chrom]) for chrom in bw.chroms()]\n"
   ]
  },
  {
   "cell_type": "code",
   "execution_count": null,
   "id": "0bf77c88",
   "metadata": {},
   "outputs": [],
   "source": [
    "average_bigwig_files(bw_files, output_bigwig_path, chrom_sizes)\n"
   ]
  }
 ],
 "metadata": {
  "kernelspec": {
   "display_name": "Python 3 (ipykernel)",
   "language": "python",
   "name": "python3"
  },
  "language_info": {
   "codemirror_mode": {
    "name": "ipython",
    "version": 3
   },
   "file_extension": ".py",
   "mimetype": "text/x-python",
   "name": "python",
   "nbconvert_exporter": "python",
   "pygments_lexer": "ipython3",
   "version": "3.9.18"
  }
 },
 "nbformat": 4,
 "nbformat_minor": 5
}
